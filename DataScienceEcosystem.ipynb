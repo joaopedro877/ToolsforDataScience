{
 "cells": [
  {
   "cell_type": "markdown",
   "id": "b29c9ec7-0412-4549-b41c-a3d6cfc14cb1",
   "metadata": {},
   "source": [
    "# Data Science Tools and Ecosystem"
   ]
  },
  {
   "cell_type": "markdown",
   "id": "be6fae9f-dead-4424-b940-13966829d316",
   "metadata": {},
   "source": [
    "In this notebook, Data Science Tools and Ecosystem are summarized"
   ]
  },
  {
   "cell_type": "markdown",
   "id": "63dce094-d81a-424d-aab9-95239469abdb",
   "metadata": {},
   "source": [
    "**Objectives :**\n",
    "- List popular languages for Data Science\n",
    "- List popular libraries used in Data Science\n",
    "- List popular Data Science open source tools"
   ]
  },
  {
   "cell_type": "markdown",
   "id": "63399092-60b1-4b21-9f02-4abdf7ab2af0",
   "metadata": {},
   "source": [
    "Some of the popular languages that Data Scientists uses are:\n",
    "1. Python\n",
    "2. R\n",
    "3. SQL"
   ]
  },
  {
   "cell_type": "markdown",
   "id": "46201239-510a-4592-a8f0-99228aca7cd0",
   "metadata": {},
   "source": [
    "Some of the commonly used libraries used by data scientists are :\n",
    "- Numpy\n",
    "- Pandas \n",
    "- Matplotlib"
   ]
  },
  {
   "cell_type": "markdown",
   "id": "4c753aaa-e5d9-4799-bec1-bd3ac9be7332",
   "metadata": {},
   "source": [
    "| Data Science Tools |\n",
    "|---|\n",
    "|Rstudio|\n",
    "|VScode|\n",
    "|Anaconda|"
   ]
  },
  {
   "cell_type": "markdown",
   "id": "8308fbb9-b302-400f-beb0-5e593bce7d94",
   "metadata": {},
   "source": [
    "### Below are a few examples of evaluating arithmetic expressions in Python\n"
   ]
  },
  {
   "cell_type": "code",
   "execution_count": 1,
   "id": "e8d19eae-90d1-4071-976f-32d5fc4eda3d",
   "metadata": {
    "tags": []
   },
   "outputs": [
    {
     "data": {
      "text/plain": [
       "17"
      ]
     },
     "execution_count": 1,
     "metadata": {},
     "output_type": "execute_result"
    }
   ],
   "source": [
    "'''This a simple arithmetic expression to mutiply then add integers'''\n",
    "(3*4)+5"
   ]
  },
  {
   "cell_type": "code",
   "execution_count": 4,
   "id": "bf123bae-d7cd-43ed-8d81-ded3beb54c3d",
   "metadata": {
    "tags": []
   },
   "outputs": [
    {
     "data": {
      "text/plain": [
       "3.3333333333333335"
      ]
     },
     "execution_count": 4,
     "metadata": {},
     "output_type": "execute_result"
    }
   ],
   "source": [
    "'''This will convert 200 minutes to hours by diving by 60'''\n",
    "200/60"
   ]
  },
  {
   "cell_type": "markdown",
   "id": "e82ad7e3-7c1e-420b-b9d0-fa789762fd77",
   "metadata": {},
   "source": [
    "## Author\n",
    "João Pedro de Brito"
   ]
  },
  {
   "cell_type": "code",
   "execution_count": null,
   "id": "10a11410-8ab5-4db0-be30-d8463d58a1a4",
   "metadata": {},
   "outputs": [],
   "source": []
  }
 ],
 "metadata": {
  "kernelspec": {
   "display_name": "Python",
   "language": "python",
   "name": "conda-env-python-py"
  },
  "language_info": {
   "codemirror_mode": {
    "name": "ipython",
    "version": 3
   },
   "file_extension": ".py",
   "mimetype": "text/x-python",
   "name": "python",
   "nbconvert_exporter": "python",
   "pygments_lexer": "ipython3",
   "version": "3.7.12"
  }
 },
 "nbformat": 4,
 "nbformat_minor": 5
}
